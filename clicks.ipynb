{
  "nbformat": 4,
  "nbformat_minor": 0,
  "metadata": {
    "colab": {
      "name": "CLicks.ipynb",
      "provenance": [],
      "collapsed_sections": [],
      "authorship_tag": "ABX9TyMBroCxUY6XR87VVMg1phvJ",
      "include_colab_link": true
    },
    "kernelspec": {
      "name": "python3",
      "display_name": "Python 3"
    },
    "language_info": {
      "name": "python"
    }
  },
  "cells": [
    {
      "cell_type": "markdown",
      "metadata": {
        "id": "view-in-github",
        "colab_type": "text"
      },
      "source": [
        "<a href=\"https://colab.research.google.com/github/DS-X1/ClickThatButton-ClickTracker/blob/main/clicks.ipynb\" target=\"_parent\"><img src=\"https://colab.research.google.com/assets/colab-badge.svg\" alt=\"Open In Colab\"/></a>"
      ]
    },
    {
      "cell_type": "code",
      "metadata": {
        "id": "Md4qwKK3eQVJ"
      },
      "source": [
        "from requests_html import HTMLSession\n",
        "import time"
      ],
      "execution_count": 7,
      "outputs": []
    },
    {
      "cell_type": "code",
      "metadata": {
        "id": "2wfe_roD-0MT",
        "colab": {
          "base_uri": "https://localhost:8080/",
          "height": 248
        },
        "outputId": "04c46a75-1b92-427e-c522-cefd610bb5e1"
      },
      "source": [
        "\n",
        "while True:\n",
        " \n",
        "#Start the Session, these three lines basically scour the site to get number of clickies :p\n",
        "  session = HTMLSession()\n",
        "  response = session.get('https://www.clickthatbutton.com/')\n",
        "  clicks = response.html.find('#clicks-total-number', first=True)\n",
        "\n",
        "\n",
        "#The response is a string, so I  convert it to a number here \n",
        "  true_click = int(clicks.text)\n",
        "  original = true_click\n",
        "  time.sleep(10)\n",
        "\n",
        "#Get number of clicks again so we can get latest amount\n",
        "  session = HTMLSession()\n",
        "  response = session.get('https://www.clickthatbutton.com/')\n",
        "  clicks = response.html.find('#clicks-total-number', first=True)\n",
        "\n",
        "#We sutract the old number number of clicks and new to get how many appeared in past 10 seconds\n",
        "  true_click = int(clicks.text)\n",
        "  new = true_click\n",
        "  answer = new - original\n",
        "  print(answer, \" new clicks in the past 10 seconds.\")\n",
        "  continue"
      ],
      "execution_count": 8,
      "outputs": [
        {
          "output_type": "stream",
          "text": [
            "0  new clicks in the past 10 seconds.\n"
          ],
          "name": "stdout"
        },
        {
          "output_type": "error",
          "ename": "KeyboardInterrupt",
          "evalue": "ignored",
          "traceback": [
            "\u001b[0;31m---------------------------------------------------------------------------\u001b[0m",
            "\u001b[0;31mKeyboardInterrupt\u001b[0m                         Traceback (most recent call last)",
            "\u001b[0;32m<ipython-input-8-e480e1c75a2c>\u001b[0m in \u001b[0;36m<module>\u001b[0;34m()\u001b[0m\n\u001b[1;32m     11\u001b[0m   \u001b[0mtrue_click\u001b[0m \u001b[0;34m=\u001b[0m \u001b[0mint\u001b[0m\u001b[0;34m(\u001b[0m\u001b[0mclicks\u001b[0m\u001b[0;34m.\u001b[0m\u001b[0mtext\u001b[0m\u001b[0;34m)\u001b[0m\u001b[0;34m\u001b[0m\u001b[0;34m\u001b[0m\u001b[0m\n\u001b[1;32m     12\u001b[0m   \u001b[0moriginal\u001b[0m \u001b[0;34m=\u001b[0m \u001b[0mtrue_click\u001b[0m\u001b[0;34m\u001b[0m\u001b[0;34m\u001b[0m\u001b[0m\n\u001b[0;32m---> 13\u001b[0;31m   \u001b[0mtime\u001b[0m\u001b[0;34m.\u001b[0m\u001b[0msleep\u001b[0m\u001b[0;34m(\u001b[0m\u001b[0;36m10\u001b[0m\u001b[0;34m)\u001b[0m\u001b[0;34m\u001b[0m\u001b[0;34m\u001b[0m\u001b[0m\n\u001b[0m\u001b[1;32m     14\u001b[0m \u001b[0;34m\u001b[0m\u001b[0m\n\u001b[1;32m     15\u001b[0m \u001b[0;31m#Get number of clicks again so we can get latest amount\u001b[0m\u001b[0;34m\u001b[0m\u001b[0;34m\u001b[0m\u001b[0;34m\u001b[0m\u001b[0m\n",
            "\u001b[0;31mKeyboardInterrupt\u001b[0m: "
          ]
        }
      ]
    }
  ]
}